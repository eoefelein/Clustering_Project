{
 "cells": [
  {
   "cell_type": "code",
   "execution_count": 19,
   "id": "ab97d46b",
   "metadata": {},
   "outputs": [],
   "source": [
    "import pandas as pd\n",
    "import numpy as np\n",
    "import matplotlib.pyplot as plt"
   ]
  },
  {
   "cell_type": "code",
   "execution_count": 30,
   "id": "20cc7847",
   "metadata": {},
   "outputs": [],
   "source": [
    "test = pd.read_csv('../Data/Reduced_Breast_GSE45827.csv').drop(['Unnamed: 0'], axis=1).iloc[:,:2]"
   ]
  },
  {
   "cell_type": "code",
   "execution_count": 31,
   "id": "bd67b7a3",
   "metadata": {},
   "outputs": [],
   "source": [
    "test_np = test.to_numpy()"
   ]
  },
  {
   "cell_type": "code",
   "execution_count": 32,
   "id": "32298345",
   "metadata": {},
   "outputs": [
    {
     "data": {
      "text/plain": [
       "array([[-9.99522213e+01,  9.78436950e+01],\n",
       "       [-1.15598325e+02,  5.01048653e+01],\n",
       "       [-7.11058104e+01,  1.32759507e+02],\n",
       "       [-1.04044899e+02,  4.83674697e+01],\n",
       "       [-1.19063994e+02,  4.90888206e+01],\n",
       "       [-7.86954429e+01,  5.13327235e+01],\n",
       "       [-9.59793297e+01,  6.25170985e+01],\n",
       "       [-1.30335375e+02,  3.63201695e+01],\n",
       "       [-1.51292709e+02,  3.87226419e+01],\n",
       "       [-1.22775463e+02,  5.56806849e+01],\n",
       "       [-8.67058691e+01,  3.59216551e+01],\n",
       "       [-6.96422052e+01,  1.00433088e+01],\n",
       "       [-4.13386114e+01,  8.70274161e+00],\n",
       "       [-9.26704511e+01,  1.68178510e+01],\n",
       "       [-6.96744753e+01,  8.80249864e+00],\n",
       "       [-4.49081686e+00,  4.86119131e+01],\n",
       "       [ 9.18724684e+00,  1.52670333e+01],\n",
       "       [-4.83428011e+01,  4.60932749e+01],\n",
       "       [-9.82348945e+01, -5.39373609e+00],\n",
       "       [-8.55168826e+01, -1.97423869e+00],\n",
       "       [-4.21858347e+01,  6.79839887e+01],\n",
       "       [-1.05550643e+02, -4.10891456e+01],\n",
       "       [-7.27830211e+01,  7.46399798e+01],\n",
       "       [-9.10102021e+01,  3.49343030e+00],\n",
       "       [-8.64982292e+01,  3.05339345e-01],\n",
       "       [-3.74276204e+01,  2.21765261e+01],\n",
       "       [-3.29011529e+01,  2.01985525e+01],\n",
       "       [-2.44239408e+00,  5.56128207e+01],\n",
       "       [-1.34225275e+01,  1.53352071e+01],\n",
       "       [-5.40636420e+01,  1.57214304e+01],\n",
       "       [ 4.03746580e+01,  4.77909004e+01],\n",
       "       [-1.55989730e+01,  5.06526743e+01],\n",
       "       [-3.95081538e+01,  2.34777929e+00],\n",
       "       [-6.84480242e+00,  3.60033414e+01],\n",
       "       [-1.25923950e+01, -1.16015137e+01],\n",
       "       [-2.32769376e+01,  3.26102010e+01],\n",
       "       [ 6.31507766e+01,  2.69060548e+01],\n",
       "       [-3.61158558e+00,  3.45708711e+01],\n",
       "       [ 1.09375307e+01,  4.62823409e+01],\n",
       "       [-9.92107144e+00,  1.48042521e+01],\n",
       "       [-4.80691279e+00,  4.62866038e+01],\n",
       "       [-7.14459726e+01, -5.85195532e+00],\n",
       "       [-6.68584915e+01,  4.29471072e+01],\n",
       "       [-1.06881997e+02, -1.72870646e+01],\n",
       "       [-8.50708303e+01,  8.54048670e+00],\n",
       "       [-7.63786875e+01,  5.14152002e+01],\n",
       "       [-1.07295495e+02, -9.65637534e+00],\n",
       "       [-1.12216557e+02,  1.40301922e+01],\n",
       "       [-8.69415988e+01,  1.88816063e-01],\n",
       "       [-8.55404934e+01,  1.52417635e+01],\n",
       "       [-1.25557671e+02,  4.74055006e+00],\n",
       "       [-7.10143438e+01,  1.35493818e+01],\n",
       "       [ 1.40673113e+01, -3.74681441e+01],\n",
       "       [ 5.23845413e-02,  1.08937642e+01],\n",
       "       [-1.39887907e+01, -2.61801920e+00],\n",
       "       [-5.08590019e+01, -1.74890549e+01],\n",
       "       [-5.92140613e+01, -5.58215807e+01],\n",
       "       [-4.34274609e+01, -2.85368837e+01],\n",
       "       [ 3.91675555e+01,  4.15410333e+01],\n",
       "       [ 4.92726556e+01, -2.57285416e+01],\n",
       "       [-7.27681580e+01, -4.23169929e+01],\n",
       "       [-2.54024470e+01, -2.45152080e+00],\n",
       "       [-1.43388136e+01, -1.35901018e+01],\n",
       "       [-5.09332662e+01, -4.01363413e+01],\n",
       "       [ 5.77029593e+01, -1.53391398e+01],\n",
       "       [-3.53134965e+00, -4.00301425e+01],\n",
       "       [-5.01251050e+01,  3.77844703e+01],\n",
       "       [-8.31172112e+01, -5.19820600e+01],\n",
       "       [ 9.78015816e+00, -4.39079027e+01],\n",
       "       [ 1.56780129e+01,  7.02359912e+00],\n",
       "       [-3.69654955e+01, -3.09655711e+00],\n",
       "       [ 7.05140293e+01,  2.02522494e+02],\n",
       "       [ 4.03580545e+01,  1.79889016e+02],\n",
       "       [ 7.12212453e+01,  1.54248142e+02],\n",
       "       [ 1.11566089e+01,  1.72598634e+02],\n",
       "       [ 9.78778103e+01,  1.92623045e+02],\n",
       "       [ 6.06390388e+01,  1.83708340e+02],\n",
       "       [ 7.53973718e+01,  1.68601023e+02],\n",
       "       [ 1.07821356e+02,  1.82378817e+02],\n",
       "       [ 2.06316938e+01,  1.88967093e+02],\n",
       "       [ 9.28133404e+01,  1.66264059e+02],\n",
       "       [ 1.30624967e+02,  2.20027406e+02],\n",
       "       [ 1.23388701e+02,  1.67322954e+02],\n",
       "       [ 6.43782391e+01,  1.93647981e+02],\n",
       "       [ 1.06353981e+02,  1.87696625e+02],\n",
       "       [ 1.94788059e+02, -6.10729587e+01],\n",
       "       [ 3.40093719e+01, -1.05609093e+02],\n",
       "       [ 1.49519962e+02, -1.00598655e+02],\n",
       "       [ 2.11873316e+02, -5.67746618e+01],\n",
       "       [ 2.69632503e+02, -4.86826225e+01],\n",
       "       [ 2.31788499e+02, -6.57296525e+01],\n",
       "       [ 2.45435496e+02, -4.83062271e+01],\n",
       "       [-1.10528508e+01, -8.04908650e+01],\n",
       "       [ 2.73731014e+01, -7.36305125e+01],\n",
       "       [ 7.21785677e+00, -7.46127228e+01],\n",
       "       [ 4.06357632e+00, -6.35444741e+01],\n",
       "       [-9.05979479e+01, -1.03212472e+02],\n",
       "       [ 2.54788083e+01, -4.10499959e+01],\n",
       "       [-4.07512971e+01, -1.03206292e+02],\n",
       "       [-5.53357819e+01, -9.37391203e+01],\n",
       "       [ 5.49545930e+01, -6.86220382e+01],\n",
       "       [ 5.16740130e+01, -7.40158418e+01],\n",
       "       [ 3.42585527e+01, -9.10270869e+01],\n",
       "       [ 3.04028729e+01, -6.88219351e+01],\n",
       "       [ 1.41516091e+01, -8.16435489e+01],\n",
       "       [ 5.67238477e+01, -6.50656172e+01],\n",
       "       [ 1.46242071e+01, -8.39288523e+01],\n",
       "       [ 5.19933436e+01, -7.68485783e+01],\n",
       "       [-6.55052847e+01, -7.40740140e+01],\n",
       "       [-5.72050663e+01, -6.80222062e+01],\n",
       "       [ 1.13660637e+02, -3.96889248e+01],\n",
       "       [ 6.06083099e+01, -9.81462129e+01],\n",
       "       [-7.15224664e+00, -4.75221252e+01],\n",
       "       [ 5.24128775e+01, -6.27644838e+01],\n",
       "       [ 1.00962443e+02, -7.62793248e+01],\n",
       "       [ 5.89060024e+01, -5.22737516e+01],\n",
       "       [-9.84283067e+01, -8.49879360e+01],\n",
       "       [ 3.10533774e+01, -6.33950118e+01],\n",
       "       [ 5.66481297e+01, -9.85282767e+01],\n",
       "       [ 5.66372895e+01, -4.45065381e+01],\n",
       "       [ 4.81037378e+01, -5.82611639e+01],\n",
       "       [ 1.09378237e+02, -4.50058334e+01],\n",
       "       [-7.81800084e+01, -1.42943786e+01],\n",
       "       [-2.76493872e+01, -4.64197513e+01],\n",
       "       [-1.80448763e+01, -4.02369667e+01],\n",
       "       [ 3.41793446e+01, -3.62222768e+01],\n",
       "       [ 5.19450732e+01,  2.03278728e+01],\n",
       "       [-1.16993035e+01, -9.70827598e+01],\n",
       "       [-5.41771165e+01, -6.64614006e+01],\n",
       "       [-2.93240927e+01, -6.09152052e+01],\n",
       "       [-2.32560154e+00, -6.83010899e+01],\n",
       "       [ 1.08009154e+02, -5.49521872e+01],\n",
       "       [ 2.22815846e+01, -5.04940952e+01],\n",
       "       [ 3.73296001e+01, -4.76626556e+01],\n",
       "       [-3.82328705e+01, -5.51478243e+01],\n",
       "       [-4.35655293e+00, -1.21955180e+01],\n",
       "       [ 3.61810955e+01, -5.05360284e+01],\n",
       "       [ 1.36981875e+01, -6.51659982e+01],\n",
       "       [ 4.20028950e+01, -2.06021734e+01],\n",
       "       [ 2.61607614e+01, -1.74948588e+01],\n",
       "       [ 1.59052313e+02, -2.37014787e+01],\n",
       "       [-3.71107069e+01,  5.66884017e+00],\n",
       "       [-6.60050760e+01, -5.25454749e+01],\n",
       "       [ 1.26189681e+01, -2.77858052e+01],\n",
       "       [ 1.95927422e+01, -5.21705073e+01],\n",
       "       [ 2.38012753e+01, -3.09589129e+01],\n",
       "       [ 6.86898311e+01, -4.40951943e+01],\n",
       "       [ 1.51077996e+01, -1.97592839e+01],\n",
       "       [ 5.05205018e+01,  2.91136807e+00],\n",
       "       [ 6.89282122e+01, -2.73801560e+01],\n",
       "       [ 6.19326945e+01, -2.43817009e+01]])"
      ]
     },
     "execution_count": 32,
     "metadata": {},
     "output_type": "execute_result"
    }
   ],
   "source": [
    "test_np"
   ]
  },
  {
   "cell_type": "code",
   "execution_count": 33,
   "id": "19a360dd",
   "metadata": {},
   "outputs": [
    {
     "data": {
      "text/plain": [
       "<matplotlib.collections.PathCollection at 0x111683eb8>"
      ]
     },
     "execution_count": 33,
     "metadata": {},
     "output_type": "execute_result"
    },
    {
     "data": {
      "image/png": "[encoded data removed]",
      "text/plain": [
       "<Figure size 432x288 with 1 Axes>"
      ]
     },
     "metadata": {
      "needs_background": "light"
     },
     "output_type": "display_data"
    }
   ],
   "source": [
    "plt.scatter(test.iloc[:, 0], test.iloc[:, 1], s=50, cmap='viridis')"
   ]
  },
  {
   "cell_type": "code",
   "execution_count": 34,
   "id": "61ba7249",
   "metadata": {},
   "outputs": [],
   "source": [
    "A = np.array([[1/1200.,0],[0,1.2]]) # square matrix\n",
    "B = np.array([640.,0.25])          # column matrix\n",
    "arr_data = np.matmul(B + test_np, A) + B"
   ]
  },
  {
   "cell_type": "code",
   "execution_count": 35,
   "id": "da9bc178",
   "metadata": {},
   "outputs": [
    {
     "data": {
      "text/plain": [
       "array([[ 640.45003982,  117.96243396],\n",
       "       [ 640.4370014 ,   60.67583834],\n",
       "       [ 640.47407849,  159.86140807],\n",
       "       [ 640.44662925,   58.59096364],\n",
       "       [ 640.43411334,   59.45658471],\n",
       "       [ 640.4677538 ,   62.14926824],\n",
       "       [ 640.45335056,   75.57051815],\n",
       "       [ 640.42472052,   44.13420343],\n",
       "       [ 640.40725608,   47.01717024],\n",
       "       [ 640.43102045,   67.36682184],\n",
       "       [ 640.46107844,   43.65598618],\n",
       "       [ 640.47529816,   12.60197059],\n",
       "       [ 640.49888449,   10.99328994],\n",
       "       [ 640.45610796,   20.73142123],\n",
       "       [ 640.47527127,   11.11299837],\n",
       "       [ 640.52959099,   58.88429574],\n",
       "       [ 640.54098937,   18.87043994],\n",
       "       [ 640.49304767,   55.86192986],\n",
       "       [ 640.45147092,   -5.92248331],\n",
       "       [ 640.46206926,   -1.81908643],\n",
       "       [ 640.49817847,   82.1307865 ],\n",
       "       [ 640.44537446,  -48.75697468],\n",
       "       [ 640.47268082,   90.11797582],\n",
       "       [ 640.4574915 ,    4.74211636],\n",
       "       [ 640.46125148,    0.91640721],\n",
       "       [ 640.50214365,   27.1618313 ],\n",
       "       [ 640.50591571,   24.78826301],\n",
       "       [ 640.531298  ,   67.28538485],\n",
       "       [ 640.52214789,   18.95224855],\n",
       "       [ 640.4882803 ,   19.41571648],\n",
       "       [ 640.56697888,   57.8990805 ],\n",
       "       [ 640.52033419,   61.3332092 ],\n",
       "       [ 640.50040987,    3.36733515],\n",
       "       [ 640.52762933,   43.75400974],\n",
       "       [ 640.52283967,  -13.37181649],\n",
       "       [ 640.51393589,   39.68224118],\n",
       "       [ 640.58595898,   32.83726573],\n",
       "       [ 640.53032368,   42.03504538],\n",
       "       [ 640.54244794,   56.08880903],\n",
       "       [ 640.52506577,   18.31510246],\n",
       "       [ 640.52932757,   56.09392461],\n",
       "       [ 640.47379502,   -6.47234639],\n",
       "       [ 640.47761792,   52.0865286 ],\n",
       "       [ 640.444265  ,  -20.19447749],\n",
       "       [ 640.46244097,   10.79858404],\n",
       "       [ 640.46968443,   62.24824026],\n",
       "       [ 640.44392042,  -11.0376504 ],\n",
       "       [ 640.43981954,   17.38623067],\n",
       "       [ 640.460882  ,    0.77657928],\n",
       "       [ 640.46204959,   18.84011616],\n",
       "       [ 640.42870194,    6.23866007],\n",
       "       [ 640.47415471,   16.8092582 ],\n",
       "       [ 640.54505609,  -44.41177289],\n",
       "       [ 640.53337699,   13.62251705],\n",
       "       [ 640.52167601,   -2.59162304],\n",
       "       [ 640.49095083,  -20.43686583],\n",
       "       [ 640.48398828,  -66.4358968 ],\n",
       "       [ 640.49714378,  -33.69426048],\n",
       "       [ 640.56597296,   50.39923994],\n",
       "       [ 640.57439388,  -30.32424987],\n",
       "       [ 640.4726932 ,  -50.23039151],\n",
       "       [ 640.51216463,   -2.39182496],\n",
       "       [ 640.52138432,  -15.75812217],\n",
       "       [ 640.49088894,  -47.61360957],\n",
       "       [ 640.58141913,  -17.85696777],\n",
       "       [ 640.53039054,  -47.48617101],\n",
       "       [ 640.49156241,   45.89136439],\n",
       "       [ 640.46406899,  -61.82847197],\n",
       "       [ 640.54148347,  -52.13948322],\n",
       "       [ 640.54639834,    8.97831894],\n",
       "       [ 640.50252875,   -3.16586853],\n",
       "       [ 640.59209502,  243.57699253],\n",
       "       [ 640.56696505,  216.41681894],\n",
       "       [ 640.59268437,  185.64777072],\n",
       "       [ 640.54263051,  207.66836059],\n",
       "       [ 640.61489818,  231.69765408],\n",
       "       [ 640.58386587,  221.00000793],\n",
       "       [ 640.59616448,  202.87122762],\n",
       "       [ 640.62318446,  219.40458079],\n",
       "       [ 640.55052641,  227.31051188],\n",
       "       [ 640.61067778,  200.06687132],\n",
       "       [ 640.64218747,  264.58288725],\n",
       "       [ 640.63615725,  201.33754439],\n",
       "       [ 640.58698187,  232.9275768 ],\n",
       "       [ 640.62196165,  225.78595059],\n",
       "       [ 640.69565672,  -72.73755041],\n",
       "       [ 640.56167448, -126.18091121],\n",
       "       [ 640.6579333 , -120.1683858 ],\n",
       "       [ 640.70989443,  -67.57959422],\n",
       "       [ 640.75802709,  -57.86914698],\n",
       "       [ 640.72649042,  -78.32558296],\n",
       "       [ 640.73786291,  -57.41747248],\n",
       "       [ 640.52412262,  -96.03903804],\n",
       "       [ 640.55614425,  -87.80661503],\n",
       "       [ 640.53934821,  -88.98526731],\n",
       "       [ 640.53671965,  -75.70336892],\n",
       "       [ 640.45783504, -123.30496646],\n",
       "       [ 640.55456567,  -48.70999505],\n",
       "       [ 640.49937392, -123.29755094],\n",
       "       [ 640.48722018, -111.9369443 ],\n",
       "       [ 640.57912883,  -81.79644588],\n",
       "       [ 640.57639501,  -88.26901016],\n",
       "       [ 640.56188213, -108.68250424],\n",
       "       [ 640.55866906,  -82.03632212],\n",
       "       [ 640.54512634,  -97.42225865],\n",
       "       [ 640.58060321,  -77.52874065],\n",
       "       [ 640.54552017, -100.16462274],\n",
       "       [ 640.57666112,  -91.66829397],\n",
       "       [ 640.4787456 ,  -88.33881685],\n",
       "       [ 640.48566244,  -81.07664738],\n",
       "       [ 640.62805053,  -47.07670974],\n",
       "       [ 640.58384026, -117.22545553],\n",
       "       [ 640.52737313,  -56.47655029],\n",
       "       [ 640.57701073,  -74.76738058],\n",
       "       [ 640.6174687 ,  -90.98518972],\n",
       "       [ 640.58242167,  -62.17850194],\n",
       "       [ 640.45130974, -101.43552316],\n",
       "       [ 640.55921115,  -75.52401422],\n",
       "       [ 640.58054011, -117.68393203],\n",
       "       [ 640.58053107,  -52.85784577],\n",
       "       [ 640.57341978,  -69.3633967 ],\n",
       "       [ 640.62448186,  -53.4570001 ],\n",
       "       [ 640.46818333,  -16.60325434],\n",
       "       [ 640.51029218,  -55.15370155],\n",
       "       [ 640.51829594,  -47.73436003],\n",
       "       [ 640.56181612,  -42.91673215],\n",
       "       [ 640.57662089,   24.9434473 ],\n",
       "       [ 640.52358391, -115.94931175],\n",
       "       [ 640.48818574,  -79.2036807 ],\n",
       "       [ 640.50889659,  -72.54824624],\n",
       "       [ 640.53139533,  -81.41130791],\n",
       "       [ 640.62334096,  -65.39262467],\n",
       "       [ 640.55190132,  -60.04291424],\n",
       "       [ 640.56444133,  -56.64518678],\n",
       "       [ 640.50147261,  -65.62738917],\n",
       "       [ 640.52970287,  -14.08462158],\n",
       "       [ 640.56348425,  -60.09323404],\n",
       "       [ 640.54474849,  -77.64919782],\n",
       "       [ 640.56833575,  -24.17260803],\n",
       "       [ 640.55513397,  -20.44383061],\n",
       "       [ 640.66587693,  -27.89177443],\n",
       "       [ 640.50240774,    7.3526082 ],\n",
       "       [ 640.4783291 ,  -62.50456983],\n",
       "       [ 640.54384914,  -32.79296619],\n",
       "       [ 640.54966062,  -62.05460872],\n",
       "       [ 640.55316773,  -36.60069547],\n",
       "       [ 640.59057486,  -52.3642332 ],\n",
       "       [ 640.54592317,  -23.16114073],\n",
       "       [ 640.57543375,    4.04364168],\n",
       "       [ 640.59077351,  -32.30618718],\n",
       "       [ 640.58494391,  -28.70804105]])"
      ]
     },
     "execution_count": 35,
     "metadata": {},
     "output_type": "execute_result"
    }
   ],
   "source": [
    "arr_data"
   ]
  },
  {
   "cell_type": "code",
   "execution_count": 36,
   "id": "0290431a",
   "metadata": {},
   "outputs": [],
   "source": [
    "data_pd = pd.DataFrame(arr_data)"
   ]
  },
  {
   "cell_type": "code",
   "execution_count": 37,
   "id": "936d8cc0",
   "metadata": {},
   "outputs": [
    {
     "data": {
      "text/plain": [
       "<matplotlib.collections.PathCollection at 0x1277e4320>"
      ]
     },
     "execution_count": 37,
     "metadata": {},
     "output_type": "execute_result"
    },
    {
     "data": {
      "image/png": "[encoded data removed]",
      "text/plain": [
       "<Figure size 432x288 with 1 Axes>"
      ]
     },
     "metadata": {
      "needs_background": "light"
     },
     "output_type": "display_data"
    }
   ],
   "source": [
    "plt.scatter(data_pd.iloc[:, 0], data_pd.iloc[:, 1], s=50, cmap='viridis')"
   ]
  },
  {
   "cell_type": "code",
   "execution_count": 38,
   "id": "fd775317",
   "metadata": {},
   "outputs": [],
   "source": [
    "from sklearn.cluster import KMeans\n",
    "kmeans = KMeans(n_clusters=3)\n",
    "kmeans.fit(arr_data)\n",
    "y_kmeans = kmeans.predict(arr_data)"
   ]
  },
  {
   "cell_type": "code",
   "execution_count": 39,
   "id": "b211baac",
   "metadata": {},
   "outputs": [
    {
     "data": {
      "text/plain": [
       "<matplotlib.collections.PathCollection at 0x10bde6048>"
      ]
     },
     "execution_count": 39,
     "metadata": {},
     "output_type": "execute_result"
    },
    {
     "data": {
      "image/png": "[encoded data removed]",
      "text/plain": [
       "<Figure size 432x288 with 1 Axes>"
      ]
     },
     "metadata": {
      "needs_background": "light"
     },
     "output_type": "display_data"
    }
   ],
   "source": [
    "plt.scatter(data_pd.iloc[:, 0], data_pd.iloc[:, 1], c=y_kmeans, s=50, cmap='viridis')\n",
    "\n",
    "centers = kmeans.cluster_centers_\n",
    "plt.scatter(centers[:, 0], centers[:, 1], c='black', s=200, alpha=0.5)"
   ]
  }
 ],
 "metadata": {
  "kernelspec": {
   "display_name": "Clustering",
   "language": "python",
   "name": "clustering"
  },
  "language_info": {
   "codemirror_mode": {
    "name": "ipython",
    "version": 3
   },
   "file_extension": ".py",
   "mimetype": "text/x-python",
   "name": "python",
   "nbconvert_exporter": "python",
   "pygments_lexer": "ipython3",
   "version": "3.6.3"
  }
 },
 "nbformat": 4,
 "nbformat_minor": 5
}
