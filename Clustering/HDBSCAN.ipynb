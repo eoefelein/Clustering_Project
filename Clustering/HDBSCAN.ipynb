{
 "cells": [
  {
   "cell_type": "code",
   "execution_count": 1,
   "id": "05d3683d",
   "metadata": {},
   "outputs": [
    {
     "data": {
      "application/javascript": [
       "\n",
       "            setTimeout(function() {\n",
       "                var nbb_cell_id = 1;\n",
       "                var nbb_unformatted_code = \"%reload_ext nb_black\";\n",
       "                var nbb_formatted_code = \"%reload_ext nb_black\";\n",
       "                var nbb_cells = Jupyter.notebook.get_cells();\n",
       "                for (var i = 0; i < nbb_cells.length; ++i) {\n",
       "                    if (nbb_cells[i].input_prompt_number == nbb_cell_id) {\n",
       "                        if (nbb_cells[i].get_text() == nbb_unformatted_code) {\n",
       "                             nbb_cells[i].set_text(nbb_formatted_code);\n",
       "                        }\n",
       "                        break;\n",
       "                    }\n",
       "                }\n",
       "            }, 500);\n",
       "            "
      ],
      "text/plain": [
       "<IPython.core.display.Javascript object>"
      ]
     },
     "metadata": {},
     "output_type": "display_data"
    }
   ],
   "source": [
    "%reload_ext nb_black"
   ]
  },
  {
   "cell_type": "code",
   "execution_count": 32,
   "id": "0bf67fbd",
   "metadata": {},
   "outputs": [
    {
     "name": "stdout",
     "output_type": "stream",
     "text": [
      "Collecting DBCV\n",
      "\u001b[31m  Could not find a version that satisfies the requirement DBCV (from versions: )\u001b[0m\n",
      "\u001b[31mNo matching distribution found for DBCV\u001b[0m\n",
      "\u001b[33mYou are using pip version 9.0.3, however version 21.2.4 is available.\n",
      "You should consider upgrading via the 'pip install --upgrade pip' command.\u001b[0m\n",
      "Note: you may need to restart the kernel to use updated packages.\n"
     ]
    },
    {
     "data": {
      "application/javascript": [
       "\n",
       "            setTimeout(function() {\n",
       "                var nbb_cell_id = 32;\n",
       "                var nbb_unformatted_code = \"%pip install DBCV\";\n",
       "                var nbb_formatted_code = \"%pip install DBCV\";\n",
       "                var nbb_cells = Jupyter.notebook.get_cells();\n",
       "                for (var i = 0; i < nbb_cells.length; ++i) {\n",
       "                    if (nbb_cells[i].input_prompt_number == nbb_cell_id) {\n",
       "                        if (nbb_cells[i].get_text() == nbb_unformatted_code) {\n",
       "                             nbb_cells[i].set_text(nbb_formatted_code);\n",
       "                        }\n",
       "                        break;\n",
       "                    }\n",
       "                }\n",
       "            }, 500);\n",
       "            "
      ],
      "text/plain": [
       "<IPython.core.display.Javascript object>"
      ]
     },
     "metadata": {},
     "output_type": "display_data"
    }
   ],
   "source": [
    "%pip install DBCV"
   ]
  },
  {
   "cell_type": "markdown",
   "id": "ec438a58",
   "metadata": {},
   "source": [
    "Using labelled data, this notebook will apply the HDBSCAN clustering algorithm and evaluate the clusters using the specified performance metrics.\n",
    "### overview of algorithms and measures\n",
    "http://www.warse.org/IJATCSE/static/pdf/file/ijatcse188922020.pdf"
   ]
  },
  {
   "cell_type": "code",
   "execution_count": 2,
   "id": "f6d4816a",
   "metadata": {},
   "outputs": [
    {
     "data": {
      "application/javascript": [
       "\n",
       "            setTimeout(function() {\n",
       "                var nbb_cell_id = 2;\n",
       "                var nbb_unformatted_code = \"import pandas as pd\\nimport numpy as np\\nimport seaborn as sns\\nimport matplotlib.pyplot as plt\\nimport hypertools as hyp\\n\\n# https://hdbscan.readthedocs.io/en/latest/how_hdbscan_works.html\\nimport hdbscan\\nimport sklearn.utils\\nfrom sklearn import metrics\\n\\n%matplotlib inline\\nsns.set_context(\\\"poster\\\")\\nsns.set_style(\\\"white\\\")\\nsns.set_color_codes()\\nplot_kwds = {\\\"alpha\\\": 0.5, \\\"s\\\": 80, \\\"linewidths\\\": 0}\\n\\nimport warnings\\n\\nwarnings.filterwarnings(\\\"ignore\\\")\";\n",
       "                var nbb_formatted_code = \"import pandas as pd\\nimport numpy as np\\nimport seaborn as sns\\nimport matplotlib.pyplot as plt\\nimport hypertools as hyp\\n\\n# https://hdbscan.readthedocs.io/en/latest/how_hdbscan_works.html\\nimport hdbscan\\nimport sklearn.utils\\nfrom sklearn import metrics\\n\\n%matplotlib inline\\nsns.set_context(\\\"poster\\\")\\nsns.set_style(\\\"white\\\")\\nsns.set_color_codes()\\nplot_kwds = {\\\"alpha\\\": 0.5, \\\"s\\\": 80, \\\"linewidths\\\": 0}\\n\\nimport warnings\\n\\nwarnings.filterwarnings(\\\"ignore\\\")\";\n",
       "                var nbb_cells = Jupyter.notebook.get_cells();\n",
       "                for (var i = 0; i < nbb_cells.length; ++i) {\n",
       "                    if (nbb_cells[i].input_prompt_number == nbb_cell_id) {\n",
       "                        if (nbb_cells[i].get_text() == nbb_unformatted_code) {\n",
       "                             nbb_cells[i].set_text(nbb_formatted_code);\n",
       "                        }\n",
       "                        break;\n",
       "                    }\n",
       "                }\n",
       "            }, 500);\n",
       "            "
      ],
      "text/plain": [
       "<IPython.core.display.Javascript object>"
      ]
     },
     "metadata": {},
     "output_type": "display_data"
    }
   ],
   "source": [
    "import pandas as pd\n",
    "import numpy as np\n",
    "import seaborn as sns\n",
    "import matplotlib.pyplot as plt\n",
    "import hypertools as hyp\n",
    "\n",
    "# https://hdbscan.readthedocs.io/en/latest/how_hdbscan_works.html\n",
    "import hdbscan\n",
    "import sklearn.utils\n",
    "from sklearn import metrics\n",
    "from clusteval import clusteval\n",
    "import hnet\n",
    "\n",
    "from scipy.spatial import euclidean\n",
    "from DBCV import DBCV\n",
    "\n",
    "%matplotlib inline\n",
    "sns.set_context(\"poster\")\n",
    "sns.set_style(\"white\")\n",
    "sns.set_color_codes()\n",
    "plot_kwds = {\"alpha\": 0.5, \"s\": 80, \"linewidths\": 0}\n",
    "\n",
    "import warnings\n",
    "\n",
    "warnings.filterwarnings(\"ignore\")"
   ]
  },
  {
   "cell_type": "code",
   "execution_count": 3,
   "id": "e1e5147b",
   "metadata": {},
   "outputs": [
    {
     "data": {
      "application/javascript": [
       "\n",
       "            setTimeout(function() {\n",
       "                var nbb_cell_id = 3;\n",
       "                var nbb_unformatted_code = \"data = pd.read_csv(\\\"100dim_labeled_synth_data.csv\\\").drop([\\\"Unnamed: 0\\\"], axis=1)\";\n",
       "                var nbb_formatted_code = \"data = pd.read_csv(\\\"100dim_labeled_synth_data.csv\\\").drop([\\\"Unnamed: 0\\\"], axis=1)\";\n",
       "                var nbb_cells = Jupyter.notebook.get_cells();\n",
       "                for (var i = 0; i < nbb_cells.length; ++i) {\n",
       "                    if (nbb_cells[i].input_prompt_number == nbb_cell_id) {\n",
       "                        if (nbb_cells[i].get_text() == nbb_unformatted_code) {\n",
       "                             nbb_cells[i].set_text(nbb_formatted_code);\n",
       "                        }\n",
       "                        break;\n",
       "                    }\n",
       "                }\n",
       "            }, 500);\n",
       "            "
      ],
      "text/plain": [
       "<IPython.core.display.Javascript object>"
      ]
     },
     "metadata": {},
     "output_type": "display_data"
    }
   ],
   "source": [
    "data = pd.read_csv(\"../Data/100dim_labeled_synth_data.csv\").drop([\"Unnamed: 0\"], axis=1)"
   ]
  },
  {
   "cell_type": "code",
   "execution_count": 4,
   "id": "4a1e22b7",
   "metadata": {},
   "outputs": [
    {
     "data": {
      "text/plain": [
       "array([[<AxesSubplot:title={'center':'labels'}>]], dtype=object)"
      ]
     },
     "execution_count": 4,
     "metadata": {},
     "output_type": "execute_result"
    },
    {
     "data": {
      "image/png": "[encoded data removed]",
      "text/plain": [
       "<Figure size 432x288 with 1 Axes>"
      ]
     },
     "metadata": {},
     "output_type": "display_data"
    },
    {
     "data": {
      "application/javascript": [
       "\n",
       "            setTimeout(function() {\n",
       "                var nbb_cell_id = 4;\n",
       "                var nbb_unformatted_code = \"data[\\\"labels\\\"] = data[\\\"labels\\\"] - 1\\n# determine the number of classes and class imbalance\\ndata.hist(column=\\\"labels\\\")\";\n",
       "                var nbb_formatted_code = \"data[\\\"labels\\\"] = data[\\\"labels\\\"] - 1\\n# determine the number of classes and class imbalance\\ndata.hist(column=\\\"labels\\\")\";\n",
       "                var nbb_cells = Jupyter.notebook.get_cells();\n",
       "                for (var i = 0; i < nbb_cells.length; ++i) {\n",
       "                    if (nbb_cells[i].input_prompt_number == nbb_cell_id) {\n",
       "                        if (nbb_cells[i].get_text() == nbb_unformatted_code) {\n",
       "                             nbb_cells[i].set_text(nbb_formatted_code);\n",
       "                        }\n",
       "                        break;\n",
       "                    }\n",
       "                }\n",
       "            }, 500);\n",
       "            "
      ],
      "text/plain": [
       "<IPython.core.display.Javascript object>"
      ]
     },
     "metadata": {},
     "output_type": "display_data"
    }
   ],
   "source": [
    "data[\"labels\"] = data[\"labels\"] - 1\n",
    "# determine the number of classes and class imbalance\n",
    "data.hist(column=\"labels\")"
   ]
  },
  {
   "cell_type": "code",
   "execution_count": 5,
   "id": "769dc6a6",
   "metadata": {},
   "outputs": [
    {
     "data": {
      "text/plain": [
       "HDBSCAN(gen_min_span_tree=True)"
      ]
     },
     "execution_count": 5,
     "metadata": {},
     "output_type": "execute_result"
    },
    {
     "data": {
      "application/javascript": [
       "\n",
       "            setTimeout(function() {\n",
       "                var nbb_cell_id = 5;\n",
       "                var nbb_unformatted_code = \"X = data.iloc[:, :-1]\\nhdb_scan = hdbscan.HDBSCAN(min_cluster_size=5, gen_min_span_tree=True)\\nhdb_scan.fit(X)\";\n",
       "                var nbb_formatted_code = \"X = data.iloc[:, :-1]\\nhdb_scan = hdbscan.HDBSCAN(min_cluster_size=5, gen_min_span_tree=True)\\nhdb_scan.fit(X)\";\n",
       "                var nbb_cells = Jupyter.notebook.get_cells();\n",
       "                for (var i = 0; i < nbb_cells.length; ++i) {\n",
       "                    if (nbb_cells[i].input_prompt_number == nbb_cell_id) {\n",
       "                        if (nbb_cells[i].get_text() == nbb_unformatted_code) {\n",
       "                             nbb_cells[i].set_text(nbb_formatted_code);\n",
       "                        }\n",
       "                        break;\n",
       "                    }\n",
       "                }\n",
       "            }, 500);\n",
       "            "
      ],
      "text/plain": [
       "<IPython.core.display.Javascript object>"
      ]
     },
     "metadata": {},
     "output_type": "display_data"
    }
   ],
   "source": [
    "X = data.iloc[:, :-1]\n",
    "hdb_scan = hdbscan.HDBSCAN(min_cluster_size=5, gen_min_span_tree=True)\n",
    "hdb_scan.fit(X)"
   ]
  },
  {
   "cell_type": "markdown",
   "id": "13f8dd04",
   "metadata": {},
   "source": [
    "# Visualization"
   ]
  },
  {
   "cell_type": "code",
   "execution_count": 6,
   "id": "deb4b364",
   "metadata": {},
   "outputs": [
    {
     "data": {
      "application/javascript": [
       "\n",
       "            setTimeout(function() {\n",
       "                var nbb_cell_id = 6;\n",
       "                var nbb_unformatted_code = \"# clusterer.minimum_spanning_tree_.plot(edge_cmap=\\\"viridis\\\", edge_linewidth=2)\";\n",
       "                var nbb_formatted_code = \"# clusterer.minimum_spanning_tree_.plot(edge_cmap=\\\"viridis\\\", edge_linewidth=2)\";\n",
       "                var nbb_cells = Jupyter.notebook.get_cells();\n",
       "                for (var i = 0; i < nbb_cells.length; ++i) {\n",
       "                    if (nbb_cells[i].input_prompt_number == nbb_cell_id) {\n",
       "                        if (nbb_cells[i].get_text() == nbb_unformatted_code) {\n",
       "                             nbb_cells[i].set_text(nbb_formatted_code);\n",
       "                        }\n",
       "                        break;\n",
       "                    }\n",
       "                }\n",
       "            }, 500);\n",
       "            "
      ],
      "text/plain": [
       "<IPython.core.display.Javascript object>"
      ]
     },
     "metadata": {},
     "output_type": "display_data"
    }
   ],
   "source": [
    "# clusterer.minimum_spanning_tree_.plot(edge_cmap=\"viridis\", edge_linewidth=2)"
   ]
  },
  {
   "cell_type": "code",
   "execution_count": 7,
   "id": "f26b471d",
   "metadata": {},
   "outputs": [
    {
     "data": {
      "text/plain": [
       "<AxesSubplot:ylabel='distance'>"
      ]
     },
     "execution_count": 7,
     "metadata": {},
     "output_type": "execute_result"
    },
    {
     "data": {
      "image/png": "[encoded data removed]",
      "text/plain": [
       "<Figure size 432x288 with 2 Axes>"
      ]
     },
     "metadata": {},
     "output_type": "display_data"
    },
    {
     "data": {
      "application/javascript": [
       "\n",
       "            setTimeout(function() {\n",
       "                var nbb_cell_id = 7;\n",
       "                var nbb_unformatted_code = \"hdb_scan.single_linkage_tree_.plot(cmap=\\\"viridis\\\", colorbar=True)\";\n",
       "                var nbb_formatted_code = \"hdb_scan.single_linkage_tree_.plot(cmap=\\\"viridis\\\", colorbar=True)\";\n",
       "                var nbb_cells = Jupyter.notebook.get_cells();\n",
       "                for (var i = 0; i < nbb_cells.length; ++i) {\n",
       "                    if (nbb_cells[i].input_prompt_number == nbb_cell_id) {\n",
       "                        if (nbb_cells[i].get_text() == nbb_unformatted_code) {\n",
       "                             nbb_cells[i].set_text(nbb_formatted_code);\n",
       "                        }\n",
       "                        break;\n",
       "                    }\n",
       "                }\n",
       "            }, 500);\n",
       "            "
      ],
      "text/plain": [
       "<IPython.core.display.Javascript object>"
      ]
     },
     "metadata": {},
     "output_type": "display_data"
    }
   ],
   "source": [
    "hdb_scan.single_linkage_tree_.plot(cmap=\"viridis\", colorbar=True)"
   ]
  },
  {
   "cell_type": "code",
   "execution_count": 8,
   "id": "5b427898",
   "metadata": {},
   "outputs": [
    {
     "data": {
      "text/plain": [
       "<matplotlib.collections.PathCollection at 0x135be0898>"
      ]
     },
     "execution_count": 8,
     "metadata": {},
     "output_type": "execute_result"
    },
    {
     "data": {
      "image/png": "[encoded data removed]",
      "text/plain": [
       "<Figure size 432x288 with 1 Axes>"
      ]
     },
     "metadata": {},
     "output_type": "display_data"
    },
    {
     "data": {
      "application/javascript": [
       "\n",
       "            setTimeout(function() {\n",
       "                var nbb_cell_id = 8;\n",
       "                var nbb_unformatted_code = \"palette = sns.color_palette()\\nplt.scatter(X.T[0], X.T[1], **plot_kwds)\";\n",
       "                var nbb_formatted_code = \"palette = sns.color_palette()\\nplt.scatter(X.T[0], X.T[1], **plot_kwds)\";\n",
       "                var nbb_cells = Jupyter.notebook.get_cells();\n",
       "                for (var i = 0; i < nbb_cells.length; ++i) {\n",
       "                    if (nbb_cells[i].input_prompt_number == nbb_cell_id) {\n",
       "                        if (nbb_cells[i].get_text() == nbb_unformatted_code) {\n",
       "                             nbb_cells[i].set_text(nbb_formatted_code);\n",
       "                        }\n",
       "                        break;\n",
       "                    }\n",
       "                }\n",
       "            }, 500);\n",
       "            "
      ],
      "text/plain": [
       "<IPython.core.display.Javascript object>"
      ]
     },
     "metadata": {},
     "output_type": "display_data"
    }
   ],
   "source": [
    "palette = sns.color_palette()\n",
    "plt.scatter(X.T[0], X.T[1], **plot_kwds)"
   ]
  },
  {
   "cell_type": "code",
   "execution_count": 9,
   "id": "8a60f81a",
   "metadata": {},
   "outputs": [
    {
     "data": {
      "text/plain": [
       "array([4, 5, 4, ..., 4, 2, 1])"
      ]
     },
     "execution_count": 9,
     "metadata": {},
     "output_type": "execute_result"
    },
    {
     "data": {
      "application/javascript": [
       "\n",
       "            setTimeout(function() {\n",
       "                var nbb_cell_id = 9;\n",
       "                var nbb_unformatted_code = \"data[\\\"labels\\\"] = hdb_scan.labels_\\nhdb_scan.labels_\";\n",
       "                var nbb_formatted_code = \"data[\\\"labels\\\"] = hdb_scan.labels_\\nhdb_scan.labels_\";\n",
       "                var nbb_cells = Jupyter.notebook.get_cells();\n",
       "                for (var i = 0; i < nbb_cells.length; ++i) {\n",
       "                    if (nbb_cells[i].input_prompt_number == nbb_cell_id) {\n",
       "                        if (nbb_cells[i].get_text() == nbb_unformatted_code) {\n",
       "                             nbb_cells[i].set_text(nbb_formatted_code);\n",
       "                        }\n",
       "                        break;\n",
       "                    }\n",
       "                }\n",
       "            }, 500);\n",
       "            "
      ],
      "text/plain": [
       "<IPython.core.display.Javascript object>"
      ]
     },
     "metadata": {},
     "output_type": "display_data"
    }
   ],
   "source": [
    "data[\"labels\"] = hdb_scan.labels_\n",
    "hdb_scan.labels_"
   ]
  },
  {
   "cell_type": "markdown",
   "id": "285dc2c0",
   "metadata": {},
   "source": [
    "## 3D plots"
   ]
  },
  {
   "cell_type": "code",
   "execution_count": 10,
   "id": "92205006",
   "metadata": {},
   "outputs": [
    {
     "data": {
      "application/javascript": [
       "\n",
       "            setTimeout(function() {\n",
       "                var nbb_cell_id = 10;\n",
       "                var nbb_unformatted_code = \"labels = data.pop(\\\"labels\\\")\";\n",
       "                var nbb_formatted_code = \"labels = data.pop(\\\"labels\\\")\";\n",
       "                var nbb_cells = Jupyter.notebook.get_cells();\n",
       "                for (var i = 0; i < nbb_cells.length; ++i) {\n",
       "                    if (nbb_cells[i].input_prompt_number == nbb_cell_id) {\n",
       "                        if (nbb_cells[i].get_text() == nbb_unformatted_code) {\n",
       "                             nbb_cells[i].set_text(nbb_formatted_code);\n",
       "                        }\n",
       "                        break;\n",
       "                    }\n",
       "                }\n",
       "            }, 500);\n",
       "            "
      ],
      "text/plain": [
       "<IPython.core.display.Javascript object>"
      ]
     },
     "metadata": {},
     "output_type": "display_data"
    }
   ],
   "source": [
    "labels = data.pop(\"labels\")"
   ]
  },
  {
   "cell_type": "code",
   "execution_count": 11,
   "id": "a5eac82e",
   "metadata": {},
   "outputs": [
    {
     "data": {
      "text/plain": [
       "<hypertools.datageometry.DataGeometry at 0x135a6cb00>"
      ]
     },
     "execution_count": 11,
     "metadata": {},
     "output_type": "execute_result"
    },
    {
     "data": {
      "image/png": "[encoded data removed]",
      "text/plain": [
       "<Figure size 432x288 with 1 Axes>"
      ]
     },
     "metadata": {},
     "output_type": "display_data"
    },
    {
     "data": {
      "application/javascript": [
       "\n",
       "            setTimeout(function() {\n",
       "                var nbb_cell_id = 11;\n",
       "                var nbb_unformatted_code = \"hyp.plot(data, \\\".\\\", group=labels, legend=list(set(labels)))\";\n",
       "                var nbb_formatted_code = \"hyp.plot(data, \\\".\\\", group=labels, legend=list(set(labels)))\";\n",
       "                var nbb_cells = Jupyter.notebook.get_cells();\n",
       "                for (var i = 0; i < nbb_cells.length; ++i) {\n",
       "                    if (nbb_cells[i].input_prompt_number == nbb_cell_id) {\n",
       "                        if (nbb_cells[i].get_text() == nbb_unformatted_code) {\n",
       "                             nbb_cells[i].set_text(nbb_formatted_code);\n",
       "                        }\n",
       "                        break;\n",
       "                    }\n",
       "                }\n",
       "            }, 500);\n",
       "            "
      ],
      "text/plain": [
       "<IPython.core.display.Javascript object>"
      ]
     },
     "metadata": {},
     "output_type": "display_data"
    }
   ],
   "source": [
    "hyp.plot(data, \".\", group=labels, legend=list(set(labels)))"
   ]
  },
  {
   "cell_type": "markdown",
   "id": "ed687a91",
   "metadata": {},
   "source": [
    "### reduce with t-SNE"
   ]
  },
  {
   "cell_type": "code",
   "execution_count": 12,
   "id": "a08b0274",
   "metadata": {},
   "outputs": [
    {
     "data": {
      "image/png": "[encoded data removed]",
      "text/plain": [
       "<Figure size 432x288 with 1 Axes>"
      ]
     },
     "metadata": {},
     "output_type": "display_data"
    },
    {
     "data": {
      "application/javascript": [
       "\n",
       "            setTimeout(function() {\n",
       "                var nbb_cell_id = 12;\n",
       "                var nbb_unformatted_code = \"geo_tsne = hyp.plot(\\n    data, \\\".\\\", group=labels, legend=list(set(labels)), reduce=\\\"TSNE\\\", ndims=3\\n)\";\n",
       "                var nbb_formatted_code = \"geo_tsne = hyp.plot(\\n    data, \\\".\\\", group=labels, legend=list(set(labels)), reduce=\\\"TSNE\\\", ndims=3\\n)\";\n",
       "                var nbb_cells = Jupyter.notebook.get_cells();\n",
       "                for (var i = 0; i < nbb_cells.length; ++i) {\n",
       "                    if (nbb_cells[i].input_prompt_number == nbb_cell_id) {\n",
       "                        if (nbb_cells[i].get_text() == nbb_unformatted_code) {\n",
       "                             nbb_cells[i].set_text(nbb_formatted_code);\n",
       "                        }\n",
       "                        break;\n",
       "                    }\n",
       "                }\n",
       "            }, 500);\n",
       "            "
      ],
      "text/plain": [
       "<IPython.core.display.Javascript object>"
      ]
     },
     "metadata": {},
     "output_type": "display_data"
    }
   ],
   "source": [
    "geo_tsne = hyp.plot(\n",
    "    data, \".\", group=labels, legend=list(set(labels)), reduce=\"TSNE\", ndims=3\n",
    ")"
   ]
  },
  {
   "cell_type": "markdown",
   "id": "ab0e9742",
   "metadata": {},
   "source": [
    "### reduce with PCA"
   ]
  },
  {
   "cell_type": "code",
   "execution_count": 13,
   "id": "ee16e3ef",
   "metadata": {},
   "outputs": [
    {
     "data": {
      "image/png": "[encoded data removed]",
      "text/plain": [
       "<Figure size 432x288 with 1 Axes>"
      ]
     },
     "metadata": {},
     "output_type": "display_data"
    },
    {
     "data": {
      "application/javascript": [
       "\n",
       "            setTimeout(function() {\n",
       "                var nbb_cell_id = 13;\n",
       "                var nbb_unformatted_code = \"geo = hyp.plot(\\n    data, \\\".\\\", group=labels, reduce=\\\"PCA\\\", title=\\\"PCA\\\", legend=list(set(labels))\\n)\";\n",
       "                var nbb_formatted_code = \"geo = hyp.plot(\\n    data, \\\".\\\", group=labels, reduce=\\\"PCA\\\", title=\\\"PCA\\\", legend=list(set(labels))\\n)\";\n",
       "                var nbb_cells = Jupyter.notebook.get_cells();\n",
       "                for (var i = 0; i < nbb_cells.length; ++i) {\n",
       "                    if (nbb_cells[i].input_prompt_number == nbb_cell_id) {\n",
       "                        if (nbb_cells[i].get_text() == nbb_unformatted_code) {\n",
       "                             nbb_cells[i].set_text(nbb_formatted_code);\n",
       "                        }\n",
       "                        break;\n",
       "                    }\n",
       "                }\n",
       "            }, 500);\n",
       "            "
      ],
      "text/plain": [
       "<IPython.core.display.Javascript object>"
      ]
     },
     "metadata": {},
     "output_type": "display_data"
    }
   ],
   "source": [
    "geo = hyp.plot(\n",
    "    data, \".\", group=labels, reduce=\"PCA\", title=\"PCA\", legend=list(set(labels))\n",
    ")"
   ]
  },
  {
   "cell_type": "markdown",
   "id": "46a211e8",
   "metadata": {},
   "source": [
    "# Evaluation Metrics"
   ]
  },
  {
   "cell_type": "markdown",
   "id": "cd9daeb5",
   "metadata": {},
   "source": [
    "# https://towardsdatascience.com/cheat-sheet-to-implementing-7-methods-for-selecting-optimal-number-of-clusters-in-python-898241e1d6ad\n",
    "Gap Statistic??? <br>\n",
    "Elbow Method <br>\n",
    "Silhouette Coefficient <br>\n",
    "Calinski-Harabasz Index <br>\n",
    "Davies-Bouldin Index <br>\n",
    "\n",
    "# https://towardsdatascience.com/evaluation-metrics-for-clustering-models-5dde821dd6cd\n",
    "Purity <br>\n",
    "Normalized mutual information (NMI) <br>\n",
    "Rand index <br>\n",
    "Adjusted Rand Index <br>\n",
    "Jaccard Index <br>\n",
    "Fowlkes Mallows Index <br>"
   ]
  },
  {
   "cell_type": "code",
   "execution_count": 14,
   "id": "26e89782",
   "metadata": {},
   "outputs": [
    {
     "data": {
      "application/javascript": [
       "\n",
       "            setTimeout(function() {\n",
       "                var nbb_cell_id = 14;\n",
       "                var nbb_unformatted_code = \"predictions = hdb_scan.fit_predict(X)\";\n",
       "                var nbb_formatted_code = \"predictions = hdb_scan.fit_predict(X)\";\n",
       "                var nbb_cells = Jupyter.notebook.get_cells();\n",
       "                for (var i = 0; i < nbb_cells.length; ++i) {\n",
       "                    if (nbb_cells[i].input_prompt_number == nbb_cell_id) {\n",
       "                        if (nbb_cells[i].get_text() == nbb_unformatted_code) {\n",
       "                             nbb_cells[i].set_text(nbb_formatted_code);\n",
       "                        }\n",
       "                        break;\n",
       "                    }\n",
       "                }\n",
       "            }, 500);\n",
       "            "
      ],
      "text/plain": [
       "<IPython.core.display.Javascript object>"
      ]
     },
     "metadata": {},
     "output_type": "display_data"
    }
   ],
   "source": [
    "predictions = hdb_scan.fit_predict(X)"
   ]
  },
  {
   "cell_type": "markdown",
   "id": "809af594",
   "metadata": {},
   "source": [
    "# Gap Statistic??"
   ]
  },
  {
   "cell_type": "code",
   "execution_count": 29,
   "id": "45e470c2",
   "metadata": {},
   "outputs": [
    {
     "data": {
      "application/javascript": [
       "\n",
       "            setTimeout(function() {\n",
       "                var nbb_cell_id = 29;\n",
       "                var nbb_unformatted_code = \"# randomReference = np.random.random_sample(size=X.shape)  # generate reference dataset\\n\\n# hdb_scan.fit(randomReference)  # fit to reference data\\n# refDisp = hdb_scan.inertia_  # get reference dispersion\\n\\n# hdb_scan.fit(X)  # fit to original data\\n# origDisp = hdb_scan.inertia_  # get original dispersion\\n\\n# gap = np.log(refDisp) - np.log(origDisp)  # calculate gap\";\n",
       "                var nbb_formatted_code = \"# randomReference = np.random.random_sample(size=X.shape)  # generate reference dataset\\n\\n# hdb_scan.fit(randomReference)  # fit to reference data\\n# refDisp = hdb_scan.inertia_  # get reference dispersion\\n\\n# hdb_scan.fit(X)  # fit to original data\\n# origDisp = hdb_scan.inertia_  # get original dispersion\\n\\n# gap = np.log(refDisp) - np.log(origDisp)  # calculate gap\";\n",
       "                var nbb_cells = Jupyter.notebook.get_cells();\n",
       "                for (var i = 0; i < nbb_cells.length; ++i) {\n",
       "                    if (nbb_cells[i].input_prompt_number == nbb_cell_id) {\n",
       "                        if (nbb_cells[i].get_text() == nbb_unformatted_code) {\n",
       "                             nbb_cells[i].set_text(nbb_formatted_code);\n",
       "                        }\n",
       "                        break;\n",
       "                    }\n",
       "                }\n",
       "            }, 500);\n",
       "            "
      ],
      "text/plain": [
       "<IPython.core.display.Javascript object>"
      ]
     },
     "metadata": {},
     "output_type": "display_data"
    }
   ],
   "source": [
    "# randomReference = np.random.random_sample(size=X.shape)  # generate reference dataset\n",
    "\n",
    "# hdb_scan.fit(randomReference)  # fit to reference data\n",
    "# refDisp = hdb_scan.inertia_  # get reference dispersion\n",
    "\n",
    "# hdb_scan.fit(X)  # fit to original data\n",
    "# origDisp = hdb_scan.inertia_  # get original dispersion\n",
    "\n",
    "# gap = np.log(refDisp) - np.log(origDisp)  # calculate gap"
   ]
  },
  {
   "cell_type": "markdown",
   "id": "e448afec",
   "metadata": {},
   "source": [
    "# Silhouette Coefficient"
   ]
  },
  {
   "cell_type": "code",
   "execution_count": 16,
   "id": "178535c5",
   "metadata": {},
   "outputs": [
    {
     "data": {
      "text/plain": [
       "0.3299877559164761"
      ]
     },
     "execution_count": 16,
     "metadata": {},
     "output_type": "execute_result"
    },
    {
     "data": {
      "application/javascript": [
       "\n",
       "            setTimeout(function() {\n",
       "                var nbb_cell_id = 16;\n",
       "                var nbb_unformatted_code = \"metrics.silhouette_score(X, predictions, metric=\\\"euclidean\\\")\";\n",
       "                var nbb_formatted_code = \"metrics.silhouette_score(X, predictions, metric=\\\"euclidean\\\")\";\n",
       "                var nbb_cells = Jupyter.notebook.get_cells();\n",
       "                for (var i = 0; i < nbb_cells.length; ++i) {\n",
       "                    if (nbb_cells[i].input_prompt_number == nbb_cell_id) {\n",
       "                        if (nbb_cells[i].get_text() == nbb_unformatted_code) {\n",
       "                             nbb_cells[i].set_text(nbb_formatted_code);\n",
       "                        }\n",
       "                        break;\n",
       "                    }\n",
       "                }\n",
       "            }, 500);\n",
       "            "
      ],
      "text/plain": [
       "<IPython.core.display.Javascript object>"
      ]
     },
     "metadata": {},
     "output_type": "display_data"
    }
   ],
   "source": [
    "metrics.silhouette_score(X, predictions, metric=\"euclidean\")"
   ]
  },
  {
   "cell_type": "markdown",
   "id": "83fcacca",
   "metadata": {},
   "source": [
    "# Calinski-Harabasz Index*"
   ]
  },
  {
   "cell_type": "code",
   "execution_count": 17,
   "id": "d3da71b8",
   "metadata": {},
   "outputs": [
    {
     "data": {
      "text/plain": [
       "212.85316158261014"
      ]
     },
     "execution_count": 17,
     "metadata": {},
     "output_type": "execute_result"
    },
    {
     "data": {
      "application/javascript": [
       "\n",
       "            setTimeout(function() {\n",
       "                var nbb_cell_id = 17;\n",
       "                var nbb_unformatted_code = \"metrics.calinski_harabasz_score(X,predictions)\";\n",
       "                var nbb_formatted_code = \"metrics.calinski_harabasz_score(X, predictions)\";\n",
       "                var nbb_cells = Jupyter.notebook.get_cells();\n",
       "                for (var i = 0; i < nbb_cells.length; ++i) {\n",
       "                    if (nbb_cells[i].input_prompt_number == nbb_cell_id) {\n",
       "                        if (nbb_cells[i].get_text() == nbb_unformatted_code) {\n",
       "                             nbb_cells[i].set_text(nbb_formatted_code);\n",
       "                        }\n",
       "                        break;\n",
       "                    }\n",
       "                }\n",
       "            }, 500);\n",
       "            "
      ],
      "text/plain": [
       "<IPython.core.display.Javascript object>"
      ]
     },
     "metadata": {},
     "output_type": "display_data"
    }
   ],
   "source": [
    "metrics.calinski_harabasz_score(X, predictions)"
   ]
  },
  {
   "cell_type": "markdown",
   "id": "b22dec89",
   "metadata": {},
   "source": [
    "# Davies-Bouldin Index*"
   ]
  },
  {
   "cell_type": "code",
   "execution_count": 18,
   "id": "235ccfab",
   "metadata": {},
   "outputs": [
    {
     "data": {
      "text/plain": [
       "2.784177528787565"
      ]
     },
     "execution_count": 18,
     "metadata": {},
     "output_type": "execute_result"
    },
    {
     "data": {
      "application/javascript": [
       "\n",
       "            setTimeout(function() {\n",
       "                var nbb_cell_id = 18;\n",
       "                var nbb_unformatted_code = \"metrics.davies_bouldin_score(X, predictions)\";\n",
       "                var nbb_formatted_code = \"metrics.davies_bouldin_score(X, predictions)\";\n",
       "                var nbb_cells = Jupyter.notebook.get_cells();\n",
       "                for (var i = 0; i < nbb_cells.length; ++i) {\n",
       "                    if (nbb_cells[i].input_prompt_number == nbb_cell_id) {\n",
       "                        if (nbb_cells[i].get_text() == nbb_unformatted_code) {\n",
       "                             nbb_cells[i].set_text(nbb_formatted_code);\n",
       "                        }\n",
       "                        break;\n",
       "                    }\n",
       "                }\n",
       "            }, 500);\n",
       "            "
      ],
      "text/plain": [
       "<IPython.core.display.Javascript object>"
      ]
     },
     "metadata": {},
     "output_type": "display_data"
    }
   ],
   "source": [
    "metrics.davies_bouldin_score(X, predictions)"
   ]
  },
  {
   "cell_type": "markdown",
   "id": "e15b984c",
   "metadata": {},
   "source": [
    "# Purity*"
   ]
  },
  {
   "cell_type": "code",
   "execution_count": 19,
   "id": "8e81dffc",
   "metadata": {},
   "outputs": [
    {
     "data": {
      "text/plain": [
       "1.0"
      ]
     },
     "execution_count": 19,
     "metadata": {},
     "output_type": "execute_result"
    },
    {
     "data": {
      "application/javascript": [
       "\n",
       "            setTimeout(function() {\n",
       "                var nbb_cell_id = 19;\n",
       "                var nbb_unformatted_code = \"def purity_score(y_true, y_pred):\\n    # compute contingency matrix (also called confusion matrix)\\n    contingency_matrix = metrics.cluster.contingency_matrix(y_true, y_pred)\\n    # return purity\\n    return np.sum(np.amax(contingency_matrix, axis=0)) / np.sum(contingency_matrix)\\n\\n\\npurity_score(labels, predictions)\";\n",
       "                var nbb_formatted_code = \"def purity_score(y_true, y_pred):\\n    # compute contingency matrix (also called confusion matrix)\\n    contingency_matrix = metrics.cluster.contingency_matrix(y_true, y_pred)\\n    # return purity\\n    return np.sum(np.amax(contingency_matrix, axis=0)) / np.sum(contingency_matrix)\\n\\n\\npurity_score(labels, predictions)\";\n",
       "                var nbb_cells = Jupyter.notebook.get_cells();\n",
       "                for (var i = 0; i < nbb_cells.length; ++i) {\n",
       "                    if (nbb_cells[i].input_prompt_number == nbb_cell_id) {\n",
       "                        if (nbb_cells[i].get_text() == nbb_unformatted_code) {\n",
       "                             nbb_cells[i].set_text(nbb_formatted_code);\n",
       "                        }\n",
       "                        break;\n",
       "                    }\n",
       "                }\n",
       "            }, 500);\n",
       "            "
      ],
      "text/plain": [
       "<IPython.core.display.Javascript object>"
      ]
     },
     "metadata": {},
     "output_type": "display_data"
    }
   ],
   "source": [
    "def purity_score(y_true, y_pred):\n",
    "    # compute contingency matrix (also called confusion matrix)\n",
    "    contingency_matrix = metrics.cluster.contingency_matrix(y_true, y_pred)\n",
    "    # return purity\n",
    "    return np.sum(np.amax(contingency_matrix, axis=0)) / np.sum(contingency_matrix)\n",
    "\n",
    "\n",
    "purity_score(labels, predictions)"
   ]
  },
  {
   "cell_type": "markdown",
   "id": "65129a30",
   "metadata": {},
   "source": [
    "# Normalized Mutual Information (NMI)"
   ]
  },
  {
   "cell_type": "code",
   "execution_count": 20,
   "id": "dd12b07f",
   "metadata": {},
   "outputs": [
    {
     "data": {
      "text/plain": [
       "1.0"
      ]
     },
     "execution_count": 20,
     "metadata": {},
     "output_type": "execute_result"
    },
    {
     "data": {
      "application/javascript": [
       "\n",
       "            setTimeout(function() {\n",
       "                var nbb_cell_id = 20;\n",
       "                var nbb_unformatted_code = \"metrics.normalized_mutual_info_score(labels, predictions)\";\n",
       "                var nbb_formatted_code = \"metrics.normalized_mutual_info_score(labels, predictions)\";\n",
       "                var nbb_cells = Jupyter.notebook.get_cells();\n",
       "                for (var i = 0; i < nbb_cells.length; ++i) {\n",
       "                    if (nbb_cells[i].input_prompt_number == nbb_cell_id) {\n",
       "                        if (nbb_cells[i].get_text() == nbb_unformatted_code) {\n",
       "                             nbb_cells[i].set_text(nbb_formatted_code);\n",
       "                        }\n",
       "                        break;\n",
       "                    }\n",
       "                }\n",
       "            }, 500);\n",
       "            "
      ],
      "text/plain": [
       "<IPython.core.display.Javascript object>"
      ]
     },
     "metadata": {},
     "output_type": "display_data"
    }
   ],
   "source": [
    "metrics.normalized_mutual_info_score(labels, predictions)"
   ]
  },
  {
   "cell_type": "markdown",
   "id": "ce5ccd33",
   "metadata": {},
   "source": [
    "# Adjusted Rand Index"
   ]
  },
  {
   "cell_type": "code",
   "execution_count": 21,
   "id": "75549d30",
   "metadata": {},
   "outputs": [
    {
     "data": {
      "text/plain": [
       "1.0"
      ]
     },
     "execution_count": 21,
     "metadata": {},
     "output_type": "execute_result"
    },
    {
     "data": {
      "application/javascript": [
       "\n",
       "            setTimeout(function() {\n",
       "                var nbb_cell_id = 21;\n",
       "                var nbb_unformatted_code = \"metrics.adjusted_rand_score(labels, predictions)\";\n",
       "                var nbb_formatted_code = \"metrics.adjusted_rand_score(labels, predictions)\";\n",
       "                var nbb_cells = Jupyter.notebook.get_cells();\n",
       "                for (var i = 0; i < nbb_cells.length; ++i) {\n",
       "                    if (nbb_cells[i].input_prompt_number == nbb_cell_id) {\n",
       "                        if (nbb_cells[i].get_text() == nbb_unformatted_code) {\n",
       "                             nbb_cells[i].set_text(nbb_formatted_code);\n",
       "                        }\n",
       "                        break;\n",
       "                    }\n",
       "                }\n",
       "            }, 500);\n",
       "            "
      ],
      "text/plain": [
       "<IPython.core.display.Javascript object>"
      ]
     },
     "metadata": {},
     "output_type": "display_data"
    }
   ],
   "source": [
    "metrics.adjusted_rand_score(labels, predictions)"
   ]
  },
  {
   "cell_type": "markdown",
   "id": "5d63fcd6",
   "metadata": {},
   "source": [
    "# Jaccard Index"
   ]
  },
  {
   "cell_type": "markdown",
   "id": "0ff39186",
   "metadata": {},
   "source": [
    "## maunal implementation"
   ]
  },
  {
   "cell_type": "code",
   "execution_count": 23,
   "id": "99c2993c",
   "metadata": {},
   "outputs": [
    {
     "data": {
      "text/plain": [
       "0.001753067868770348"
      ]
     },
     "execution_count": 23,
     "metadata": {},
     "output_type": "execute_result"
    },
    {
     "data": {
      "application/javascript": [
       "\n",
       "            setTimeout(function() {\n",
       "                var nbb_cell_id = 23;\n",
       "                var nbb_unformatted_code = \"# define Jaccard Similarity function\\ndef jaccard(true, pred):\\n    intersection = len(list(set(true).intersection(pred)))\\n    union = (len(true) + len(pred)) - intersection\\n    return float(intersection) / union\\n\\n\\n# find Jaccard Similarity between the two sets\\njaccard(labels, predictions)\";\n",
       "                var nbb_formatted_code = \"# define Jaccard Similarity function\\ndef jaccard(true, pred):\\n    intersection = len(list(set(true).intersection(pred)))\\n    union = (len(true) + len(pred)) - intersection\\n    return float(intersection) / union\\n\\n\\n# find Jaccard Similarity between the two sets\\njaccard(labels, predictions)\";\n",
       "                var nbb_cells = Jupyter.notebook.get_cells();\n",
       "                for (var i = 0; i < nbb_cells.length; ++i) {\n",
       "                    if (nbb_cells[i].input_prompt_number == nbb_cell_id) {\n",
       "                        if (nbb_cells[i].get_text() == nbb_unformatted_code) {\n",
       "                             nbb_cells[i].set_text(nbb_formatted_code);\n",
       "                        }\n",
       "                        break;\n",
       "                    }\n",
       "                }\n",
       "            }, 500);\n",
       "            "
      ],
      "text/plain": [
       "<IPython.core.display.Javascript object>"
      ]
     },
     "metadata": {},
     "output_type": "display_data"
    }
   ],
   "source": [
    "# define Jaccard Similarity function\n",
    "def jaccard(true, pred):\n",
    "    intersection = len(list(set(true).intersection(pred)))\n",
    "    union = (len(true) + len(pred)) - intersection\n",
    "    return float(intersection) / union\n",
    "\n",
    "\n",
    "# find Jaccard Similarity between the two sets\n",
    "jaccard(labels, predictions)"
   ]
  },
  {
   "cell_type": "markdown",
   "id": "eca60f93",
   "metadata": {},
   "source": [
    "## sklearn implementation"
   ]
  },
  {
   "cell_type": "code",
   "execution_count": 25,
   "id": "3308b0e3",
   "metadata": {},
   "outputs": [
    {
     "data": {
      "text/plain": [
       "1.0"
      ]
     },
     "execution_count": 25,
     "metadata": {},
     "output_type": "execute_result"
    },
    {
     "data": {
      "application/javascript": [
       "\n",
       "            setTimeout(function() {\n",
       "                var nbb_cell_id = 25;\n",
       "                var nbb_unformatted_code = \"metrics.jaccard_score(\\n    labels, predictions, average=\\\"micro\\\"\\n)  # accounts for class imbalance\";\n",
       "                var nbb_formatted_code = \"metrics.jaccard_score(\\n    labels, predictions, average=\\\"micro\\\"\\n)  # accounts for class imbalance\";\n",
       "                var nbb_cells = Jupyter.notebook.get_cells();\n",
       "                for (var i = 0; i < nbb_cells.length; ++i) {\n",
       "                    if (nbb_cells[i].input_prompt_number == nbb_cell_id) {\n",
       "                        if (nbb_cells[i].get_text() == nbb_unformatted_code) {\n",
       "                             nbb_cells[i].set_text(nbb_formatted_code);\n",
       "                        }\n",
       "                        break;\n",
       "                    }\n",
       "                }\n",
       "            }, 500);\n",
       "            "
      ],
      "text/plain": [
       "<IPython.core.display.Javascript object>"
      ]
     },
     "metadata": {},
     "output_type": "display_data"
    }
   ],
   "source": [
    "metrics.jaccard_score(\n",
    "    labels, predictions, average=\"micro\"\n",
    ")  # accounts for class imbalance"
   ]
  },
  {
   "cell_type": "markdown",
   "id": "25bce17f",
   "metadata": {},
   "source": [
    "# Fowlkes Mallows Index"
   ]
  },
  {
   "cell_type": "code",
   "execution_count": 26,
   "id": "3f9e80f9",
   "metadata": {},
   "outputs": [
    {
     "data": {
      "text/plain": [
       "1.0"
      ]
     },
     "execution_count": 26,
     "metadata": {},
     "output_type": "execute_result"
    },
    {
     "data": {
      "application/javascript": [
       "\n",
       "            setTimeout(function() {\n",
       "                var nbb_cell_id = 26;\n",
       "                var nbb_unformatted_code = \"metrics.fowlkes_mallows_score(labels, predictions)\";\n",
       "                var nbb_formatted_code = \"metrics.fowlkes_mallows_score(labels, predictions)\";\n",
       "                var nbb_cells = Jupyter.notebook.get_cells();\n",
       "                for (var i = 0; i < nbb_cells.length; ++i) {\n",
       "                    if (nbb_cells[i].input_prompt_number == nbb_cell_id) {\n",
       "                        if (nbb_cells[i].get_text() == nbb_unformatted_code) {\n",
       "                             nbb_cells[i].set_text(nbb_formatted_code);\n",
       "                        }\n",
       "                        break;\n",
       "                    }\n",
       "                }\n",
       "            }, 500);\n",
       "            "
      ],
      "text/plain": [
       "<IPython.core.display.Javascript object>"
      ]
     },
     "metadata": {},
     "output_type": "display_data"
    }
   ],
   "source": [
    "metrics.fowlkes_mallows_score(labels, predictions)"
   ]
  },
  {
   "cell_type": "markdown",
   "id": "e29e80a1",
   "metadata": {},
   "source": [
    "# DBCV"
   ]
  },
  {
   "cell_type": "code",
   "execution_count": null,
   "id": "2f1737b9",
   "metadata": {},
   "outputs": [],
   "source": []
  },
  {
   "cell_type": "markdown",
   "id": "6c5779eb",
   "metadata": {},
   "source": [
    "# clusteval"
   ]
  },
  {
   "cell_type": "code",
   "execution_count": 28,
   "id": "53758ada",
   "metadata": {
    "scrolled": true
   },
   "outputs": [
    {
     "ename": "AttributeError",
     "evalue": "'clusteval' object has no attribute 'results'",
     "output_type": "error",
     "traceback": [
      "\u001b[0;31m---------------------------------------------------------------------------\u001b[0m",
      "\u001b[0;31mAttributeError\u001b[0m                            Traceback (most recent call last)",
      "\u001b[0;32m<ipython-input-28-19ddab1f4222>\u001b[0m in \u001b[0;36m<module>\u001b[0;34m\u001b[0m\n\u001b[1;32m      2\u001b[0m \u001b[0;31m# Determine the optimal number of clusters\u001b[0m\u001b[0;34m\u001b[0m\u001b[0;34m\u001b[0m\u001b[0m\n\u001b[1;32m      3\u001b[0m \u001b[0mce\u001b[0m \u001b[0;34m=\u001b[0m \u001b[0mclusteval\u001b[0m\u001b[0;34m(\u001b[0m\u001b[0mcluster\u001b[0m\u001b[0;34m=\u001b[0m\u001b[0;34m'hdbscan'\u001b[0m\u001b[0;34m)\u001b[0m\u001b[0;34m\u001b[0m\u001b[0m\n\u001b[0;32m----> 4\u001b[0;31m \u001b[0mce\u001b[0m\u001b[0;34m.\u001b[0m\u001b[0mplot\u001b[0m\u001b[0;34m(\u001b[0m\u001b[0;34m)\u001b[0m\u001b[0;34m\u001b[0m\u001b[0m\n\u001b[0m\u001b[1;32m      5\u001b[0m \u001b[0mce\u001b[0m\u001b[0;34m.\u001b[0m\u001b[0mscatter\u001b[0m\u001b[0;34m(\u001b[0m\u001b[0mX\u001b[0m\u001b[0;34m)\u001b[0m\u001b[0;34m\u001b[0m\u001b[0m\n",
      "\u001b[0;32m~/.local/share/virtualenvs/Clustering_Project-R3xIjfhL/lib/python3.6/site-packages/clusteval/clusteval.py\u001b[0m in \u001b[0;36mplot\u001b[0;34m(self, figsize)\u001b[0m\n\u001b[1;32m    201\u001b[0m         \"\"\"\n\u001b[1;32m    202\u001b[0m         \u001b[0mfig\u001b[0m\u001b[0;34m,\u001b[0m \u001b[0max\u001b[0m \u001b[0;34m=\u001b[0m \u001b[0;32mNone\u001b[0m\u001b[0;34m,\u001b[0m \u001b[0;32mNone\u001b[0m\u001b[0;34m\u001b[0m\u001b[0m\n\u001b[0;32m--> 203\u001b[0;31m         \u001b[0;32mif\u001b[0m \u001b[0;34m(\u001b[0m\u001b[0mself\u001b[0m\u001b[0;34m.\u001b[0m\u001b[0mresults\u001b[0m \u001b[0;32mis\u001b[0m \u001b[0;32mNone\u001b[0m\u001b[0;34m)\u001b[0m \u001b[0;32mor\u001b[0m \u001b[0;34m(\u001b[0m\u001b[0mself\u001b[0m\u001b[0;34m.\u001b[0m\u001b[0mresults\u001b[0m\u001b[0;34m[\u001b[0m\u001b[0;34m'labx'\u001b[0m\u001b[0;34m]\u001b[0m \u001b[0;32mis\u001b[0m \u001b[0;32mNone\u001b[0m\u001b[0;34m)\u001b[0m\u001b[0;34m:\u001b[0m\u001b[0;34m\u001b[0m\u001b[0m\n\u001b[0m\u001b[1;32m    204\u001b[0m             \u001b[0;32mif\u001b[0m \u001b[0mself\u001b[0m\u001b[0;34m.\u001b[0m\u001b[0mverbose\u001b[0m\u001b[0;34m>=\u001b[0m\u001b[0;36m3\u001b[0m\u001b[0;34m:\u001b[0m \u001b[0mprint\u001b[0m\u001b[0;34m(\u001b[0m\u001b[0;34m'[clusteval] >No results to plot. Tip: try the .fit() function first.'\u001b[0m\u001b[0;34m)\u001b[0m\u001b[0;34m\u001b[0m\u001b[0m\n\u001b[1;32m    205\u001b[0m             \u001b[0;32mreturn\u001b[0m \u001b[0;32mNone\u001b[0m\u001b[0;34m\u001b[0m\u001b[0m\n",
      "\u001b[0;31mAttributeError\u001b[0m: 'clusteval' object has no attribute 'results'"
     ]
    },
    {
     "data": {
      "application/javascript": [
       "\n",
       "            setTimeout(function() {\n",
       "                var nbb_cell_id = 28;\n",
       "                var nbb_unformatted_code = \"from clusteval import clusteval\\n# Determine the optimal number of clusters\\nce = clusteval(cluster='hdbscan')\\nce.plot()\\nce.scatter(X)\";\n",
       "                var nbb_formatted_code = \"from clusteval import clusteval\\n\\n# Determine the optimal number of clusters\\nce = clusteval(cluster=\\\"hdbscan\\\")\\nce.plot()\\nce.scatter(X)\";\n",
       "                var nbb_cells = Jupyter.notebook.get_cells();\n",
       "                for (var i = 0; i < nbb_cells.length; ++i) {\n",
       "                    if (nbb_cells[i].input_prompt_number == nbb_cell_id) {\n",
       "                        if (nbb_cells[i].get_text() == nbb_unformatted_code) {\n",
       "                             nbb_cells[i].set_text(nbb_formatted_code);\n",
       "                        }\n",
       "                        break;\n",
       "                    }\n",
       "                }\n",
       "            }, 500);\n",
       "            "
      ],
      "text/plain": [
       "<IPython.core.display.Javascript object>"
      ]
     },
     "metadata": {},
     "output_type": "display_data"
    }
   ],
   "source": [
    "# https://stackoverflow.com/questions/57377594/how-to-evaluate-hdbscan-text-clusters\n",
    "\n",
    "# Determine the optimal number of clusters\n",
    "ce = clusteval(cluster=\"hdbscan\")\n",
    "ce.plot()\n",
    "ce.scatter(X)"
   ]
  },
  {
   "cell_type": "code",
   "execution_count": null,
   "id": "48122664",
   "metadata": {},
   "outputs": [],
   "source": [
    "# using hnet\n",
    "\n",
    "# Get labels\n",
    "clusterlabels = results['labx']\n",
    "\n",
    "# Compute the enrichment of the cluster labels with the dataframe df\n",
    "enrich_results = hnet.enrichment(X, clusterlabels)"
   ]
  },
  {
   "cell_type": "markdown",
   "id": "c3bd1a88",
   "metadata": {},
   "source": [
    "# DBCV"
   ]
  },
  {
   "cell_type": "code",
   "execution_count": null,
   "id": "e1ad93ee",
   "metadata": {},
   "outputs": [],
   "source": [
    "from scipy.spatial import euclidean\n",
    "from DBCV import DBCV"
   ]
  },
  {
   "cell_type": "code",
   "execution_count": null,
   "id": "adc5d455",
   "metadata": {},
   "outputs": [],
   "source": []
  }
 ],
 "metadata": {
  "kernelspec": {
   "display_name": "Clustering",
   "language": "python",
   "name": "clustering"
  },
  "language_info": {
   "codemirror_mode": {
    "name": "ipython",
    "version": 3
   },
   "file_extension": ".py",
   "mimetype": "text/x-python",
   "name": "python",
   "nbconvert_exporter": "python",
   "pygments_lexer": "ipython3",
   "version": "3.6.3"
  }
 },
 "nbformat": 4,
 "nbformat_minor": 5
}
